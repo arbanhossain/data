{
 "cells": [
  {
   "cell_type": "code",
   "execution_count": 1,
   "metadata": {},
   "outputs": [],
   "source": [
    "import pandas as pd\n",
    "import matplotlib as plt\n",
    "import os\n",
    "import json\n",
    "from pprint import pprint"
   ]
  },
  {
   "cell_type": "markdown",
   "metadata": {},
   "source": [
    "get the json files"
   ]
  },
  {
   "cell_type": "code",
   "execution_count": 2,
   "metadata": {},
   "outputs": [],
   "source": [
    "json_files = [file for file in os.listdir() if file.endswith('.json')]\n",
    "\n",
    "dataframes = {}\n",
    "\n",
    "for item in json_files:\n",
    "  with open(item) as f:\n",
    "    dict = json.loads(f.read())\n",
    "    dataframe = pd.json_normalize(dict[\"jobs\"])\n",
    "    dataframes[item[:-5]] = dataframe\n"
   ]
  },
  {
   "cell_type": "code",
   "execution_count": 3,
   "metadata": {},
   "outputs": [],
   "source": [
    "job_ids = []\n",
    "data_checks = {}\n",
    "languages = ['python', 'java', 'javascript', 'c#', 'c++', 'ruby', 'rust', 'dart', 'php', 'perl', 'haskell', 'swift', 'kotlin', 'typescript']\n",
    "tools = ['.net', 'aws', 'react', 'docker', 'sql', 'postgresql', 'angular', 'git', 'mysql', 'kubernetes', 'nodejs', 'azure', 'gcp', 'nosql', 'vue', 'mongodb', 'jira', 'jquery', 'jenkins', 'bootstrap', 'react native', 'laravel', 'django', 'tailwind', 'flask', 'flutter', 'firebase']"
   ]
  },
  {
   "cell_type": "code",
   "execution_count": 4,
   "metadata": {},
   "outputs": [
    {
     "name": "stdout",
     "output_type": "stream",
     "text": [
      "|lang/jobs|backend_developer|desktop_application|DevOps|frontend_developer|mobile_app_developer|programmer|software_developer|software_engineer|web_developer|\n",
      "|---|---|---|---|---|---|---|---|---|---|\n",
      "|python|28|3|52|5|5|24|27|36|11|\n",
      "|java|36|10|14|0|27|12|23|22|3|\n",
      "|javascript|21|4|9|71|14|17|33|33|63|\n",
      "|c#|14|9|7|1|7|19|25|17|7|\n",
      "|c++|6|5|2|1|4|25|10|22|3|\n",
      "|ruby|8|0|13|5|2|1|9|13|7|\n",
      "|rust|7|0|11|10|6|7|15|16|5|\n",
      "|dart|1|2|1|2|5|0|0|0|0|\n",
      "|php|6|2|3|7|3|4|4|2|33|\n",
      "|perl|1|0|7|1|0|8|3|3|6|\n",
      "|haskell|0|0|0|0|0|0|1|1|0|\n",
      "|swift|2|0|1|0|32|1|4|1|0|\n",
      "|kotlin|3|0|0|1|24|1|4|3|0|\n",
      "|typescript|6|2|4|23|1|1|6|13|5|\n",
      "|.net|17|4|6|8|3|10|24|11|12|\n",
      "|aws|44|11|58|13|5|8|38|43|17|\n",
      "|react|12|1|4|54|9|2|19|23|26|\n",
      "|docker|26|1|39|5|0|3|17|23|7|\n",
      "|sql|10|6|7|2|4|25|23|11|4|\n",
      "|postgresql|8|0|6|1|2|2|9|4|8|\n",
      "|angular|12|4|1|35|5|3|15|17|18|\n",
      "|git|29|5|49|40|32|18|33|34|44|\n",
      "|mysql|19|7|11|3|4|3|14|12|23|\n",
      "|kubernetes|16|1|46|3|0|2|13|21|4|\n",
      "|nodejs|5|0|0|6|1|0|5|4|2|\n",
      "|azure|18|4|33|6|2|4|12|18|5|\n",
      "|gcp|5|0|17|0|3|5|5|10|2|\n",
      "|nosql|15|0|3|2|1|1|7|12|4|\n",
      "|vue|5|2|1|19|0|0|6|8|12|\n",
      "|mongodb|8|0|3|2|0|1|4|4|4|\n",
      "|jira|5|1|9|4|5|1|6|8|3|\n",
      "|jquery|5|0|0|16|3|4|6|3|21|\n",
      "|jenkins|4|2|30|5|3|3|5|11|5|\n",
      "|bootstrap|3|0|0|10|1|0|4|2|8|\n",
      "|react native|5|0|0|8|14|0|1|2|1|\n",
      "|laravel|2|0|0|3|0|0|2|0|11|\n",
      "|django|10|0|2|1|1|1|2|1|3|\n",
      "|tailwind|0|0|0|1|0|0|2|1|1|\n",
      "|flask|7|0|2|0|0|0|1|0|1|\n",
      "|flutter|0|2|0|3|10|0|1|0|0|\n",
      "|firebase|4|0|0|0|4|0|1|0|2|\n",
      "\n"
     ]
    }
   ],
   "source": [
    "# checks = dataframes['software_developer']['description'].str.contains('c#', case=False, regex=False)\n",
    "# checks.values.tolist().count(True)\n",
    "\n",
    "for item in dataframes:\n",
    "  column = dataframes[item]['description']\n",
    "  data_checks[item] = {}\n",
    "  data_checks[item]['languages'] = {}\n",
    "  for language in languages:\n",
    "    data_checks[item]['languages'][language] = column.str.contains(language, case=False, regex=False).values.tolist().count(True)\n",
    "  data_checks[item]['tools'] = {}\n",
    "  for tool in tools:\n",
    "    data_checks[item]['tools'][tool] = column.str.contains(tool, case=False, regex=False).values.tolist().count(True)\n",
    "\n",
    "# sanitization, subract entries susceptible to duplication\n",
    "for item in data_checks:\n",
    "  languages = data_checks[item]['languages']\n",
    "  tools = data_checks[item]['tools']\n",
    "  languages['java'] -= languages['javascript']\n",
    "  tools['sql'] -= (tools['postgresql'] + tools['mysql'] + tools['nosql'])\n",
    "  tools['react'] -= tools['react native']\n",
    "\n",
    "# just for generating the text for me to copy paste to the markdown file\n",
    "# for category in data_checks:\n",
    "#   print(category)\n",
    "#   print('-'*20)\n",
    "#   print('languages')\n",
    "#   languages = {k: v for k, v in sorted(data_checks[category]['languages'].items(), key=lambda item: item[1], reverse=True)}\n",
    "#   tools = {k: v for k, v in sorted(data_checks[category]['tools'].items(), key=lambda item: item[1], reverse=True)}\n",
    "#   for key in languages:\n",
    "#     print(key, languages[key])\n",
    "#   print('\\ntools')\n",
    "#   for key in tools:\n",
    "#     print(key, tools[key])\n",
    "#   print('\\n')\n",
    "table = '|lang/jobs'\n",
    "for key in data_checks:\n",
    "  table += f'|{key}'\n",
    "table += '|\\n'\n",
    "\n",
    "table += '|---'\n",
    "for key in data_checks:\n",
    "  table += f'|---'\n",
    "table += '|\\n'\n",
    "\n",
    "for language in languages:\n",
    "  table += f'|{language}'\n",
    "  for key in data_checks:\n",
    "    table += f'|{data_checks[key][\"languages\"][language]}'\n",
    "  table += '|\\n'\n",
    "\n",
    "for tool in tools:\n",
    "  table += f'|{tool}'\n",
    "  for key in data_checks:\n",
    "    table += f'|{data_checks[key][\"tools\"][tool]}'\n",
    "  table += '|\\n'\n",
    "\n",
    "print(table)"
   ]
  }
 ],
 "metadata": {
  "interpreter": {
   "hash": "2db524e06e9f5f4ffedc911c917cb75e12dbc923643829bf417064a77eb14d37"
  },
  "kernelspec": {
   "display_name": "Python 3.8.3 64-bit",
   "language": "python",
   "name": "python3"
  },
  "language_info": {
   "codemirror_mode": {
    "name": "ipython",
    "version": 3
   },
   "file_extension": ".py",
   "mimetype": "text/x-python",
   "name": "python",
   "nbconvert_exporter": "python",
   "pygments_lexer": "ipython3",
   "version": "3.8.5"
  },
  "orig_nbformat": 4
 },
 "nbformat": 4,
 "nbformat_minor": 2
}
