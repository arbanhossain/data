{
 "cells": [
  {
   "cell_type": "code",
   "execution_count": null,
   "metadata": {},
   "outputs": [],
   "source": [
    "import pandas as pd\n",
    "import matplotlib as plt\n",
    "import os\n",
    "import json\n",
    "from pprint import pprint"
   ]
  },
  {
   "cell_type": "markdown",
   "metadata": {},
   "source": [
    "get the json files"
   ]
  },
  {
   "cell_type": "code",
   "execution_count": null,
   "metadata": {},
   "outputs": [],
   "source": [
    "json_files = [file for file in os.listdir() if file.endswith('.json')]\n",
    "\n",
    "dataframes = {}\n",
    "\n",
    "for item in json_files:\n",
    "  with open(item) as f:\n",
    "    dict = json.loads(f.read())\n",
    "    dataframe = pd.json_normalize(dict[\"jobs\"])\n",
    "    dataframes[item[:-5]] = dataframe\n"
   ]
  },
  {
   "cell_type": "code",
   "execution_count": null,
   "metadata": {},
   "outputs": [],
   "source": [
    "job_ids = []\n",
    "data_checks = {}\n",
    "languages = ['python', 'java', 'javascript', 'c#', 'c++', 'ruby', 'rust', 'dart', 'php', 'perl', 'haskell', 'swift', 'kotlin', 'typescript']\n",
    "tools = ['.net', 'aws', 'react', 'docker', 'sql', 'postgresql', 'postgres', 'angular', 'git', 'mysql', 'kubernetes', 'nodejs', 'node.js', 'node js', 'redux', 'azure', 'gcp', 'nosql', 'vue', 'mongodb', 'jira', 'jquery', 'jenkins', 'bootstrap', 'react native', 'laravel', 'django', 'tailwind', 'flask', 'flutter', 'firebase', 'graphql', 'xamarin']"
   ]
  },
  {
   "cell_type": "code",
   "execution_count": null,
   "metadata": {},
   "outputs": [],
   "source": [
    "# checks = dataframes['software_developer']['description'].str.contains('c#', case=False, regex=False)\n",
    "# checks.values.tolist().count(True)\n",
    "\n",
    "for item in dataframes:\n",
    "  column = dataframes[item]['description']\n",
    "  data_checks[item] = {}\n",
    "  data_checks[item]['languages'] = {}\n",
    "  for language in languages:\n",
    "    data_checks[item]['languages'][language] = column.str.contains(language, case=False, regex=False).values.tolist().count(True)\n",
    "  data_checks[item]['tools'] = {}\n",
    "  for tool in tools:\n",
    "    data_checks[item]['tools'][tool] = column.str.contains(tool, case=False, regex=False).values.tolist().count(True)\n",
    "\n",
    "# sanitization, subract entries susceptible to duplication\n",
    "for item in data_checks:\n",
    "  languages = data_checks[item]['languages']\n",
    "  tools = data_checks[item]['tools']\n",
    "  languages['java'] -= languages['javascript']\n",
    "  tools['sql'] -= (tools['postgresql'] + tools['mysql'] + tools['nosql'])\n",
    "  tools['react'] -= tools['react native']\n",
    "  tools['postgresql'] += tools['postgres']\n",
    "  tools['nodejs'] += tools['node.js'] + tools['node js']\n",
    "\n",
    "# just for generating the text for me to copy paste to the markdown file\n",
    "# for category in data_checks:\n",
    "#   print(category)\n",
    "#   print('-'*20)\n",
    "#   print('languages')\n",
    "#   languages = {k: v for k, v in sorted(data_checks[category]['languages'].items(), key=lambda item: item[1], reverse=True)}\n",
    "#   tools = {k: v for k, v in sorted(data_checks[category]['tools'].items(), key=lambda item: item[1], reverse=True)}\n",
    "#   for key in languages:\n",
    "#     print(key, languages[key])\n",
    "#   print('\\ntools')\n",
    "#   for key in tools:\n",
    "#     print(key, tools[key])\n",
    "#   print('\\n')\n",
    "table = '|lang/jobs'\n",
    "for key in data_checks:\n",
    "  table += f'|{key}'\n",
    "table += '|\\n'\n",
    "\n",
    "table += '|---'\n",
    "for key in data_checks:\n",
    "  table += f'|---'\n",
    "table += '|\\n'\n",
    "\n",
    "for language in languages:\n",
    "  table += f'|{language}'\n",
    "  for key in data_checks:\n",
    "    table += f'|{data_checks[key][\"languages\"][language]}'\n",
    "  table += '|\\n'\n",
    "\n",
    "for tool in tools:\n",
    "  table += f'|{tool}'\n",
    "  for key in data_checks:\n",
    "    table += f'|{data_checks[key][\"tools\"][tool]}'\n",
    "  table += '|\\n'\n",
    "\n",
    "print(table)"
   ]
  }
 ],
 "metadata": {
  "interpreter": {
   "hash": "2db524e06e9f5f4ffedc911c917cb75e12dbc923643829bf417064a77eb14d37"
  },
  "kernelspec": {
   "display_name": "Python 3.8.3 64-bit",
   "language": "python",
   "name": "python3"
  },
  "language_info": {
   "codemirror_mode": {
    "name": "ipython",
    "version": 3
   },
   "file_extension": ".py",
   "mimetype": "text/x-python",
   "name": "python",
   "nbconvert_exporter": "python",
   "pygments_lexer": "ipython3",
   "version": "3.8.5"
  },
  "orig_nbformat": 4
 },
 "nbformat": 4,
 "nbformat_minor": 2
}
