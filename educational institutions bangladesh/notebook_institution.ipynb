{
 "cells": [
  {
   "cell_type": "code",
   "execution_count": 1,
   "metadata": {},
   "outputs": [],
   "source": [
    "import pandas as pd\n",
    "import matplotlib as plt\n",
    "from pprint import pprint"
   ]
  },
  {
   "cell_type": "code",
   "execution_count": 8,
   "metadata": {},
   "outputs": [],
   "source": [
    "df = pd.read_excel('information.xls')"
   ]
  },
  {
   "cell_type": "code",
   "execution_count": 9,
   "metadata": {},
   "outputs": [
    {
     "name": "stdout",
     "output_type": "stream",
     "text": [
      "Index(['INSTITUTE NAME', 'EIIN', 'INSTITUTE_TYPE', 'DIVISION_ID', 'DIVISION',\n",
      "       'DISTRICT_ID', 'DISTRICT', 'THANA_ID', 'THANA', 'UNION_ID',\n",
      "       'UNION_NAME', 'MAUZA_ID', 'MAUZA_NAME', 'AREA_STATUS',\n",
      "       'GEOGRPYCAL_STATUS', 'ADDRESS', 'POST', 'MANAGEMENT_TYPE', 'MOBILE',\n",
      "       'STUDENT_TYPE', 'EDUCATION_LEVEL', 'AFFILIATION', 'MPO_STATUS'],\n",
      "      dtype='object')\n"
     ]
    }
   ],
   "source": [
    "print(df.columns)"
   ]
  },
  {
   "cell_type": "code",
   "execution_count": 10,
   "metadata": {},
   "outputs": [
    {
     "name": "stdout",
     "output_type": "stream",
     "text": [
      "DHAKA         6072\n",
      "RAJSHAHI      5625\n",
      "CHITTAGONG    5509\n",
      "RANGPUR       5370\n",
      "KHULNA        4769\n",
      "BARISAL       3256\n",
      "MYMENSINGH    2656\n",
      "SYLHET        1644\n",
      "Name: DIVISION, dtype: int64\n"
     ]
    }
   ],
   "source": [
    "# educational institutes by division\n",
    "print(df['DIVISION'].value_counts())"
   ]
  },
  {
   "cell_type": "code",
   "execution_count": 11,
   "metadata": {},
   "outputs": [
    {
     "name": "stdout",
     "output_type": "stream",
     "text": [
      "School                      19233\n",
      "Madrasha                     9314\n",
      "College                      3190\n",
      "Technical and Vocational     1940\n",
      "School and College           1224\n",
      "Name: INSTITUTE_TYPE, dtype: int64\n"
     ]
    }
   ],
   "source": [
    "# educational institutes by type\n",
    "print(df['INSTITUTE_TYPE'].value_counts())"
   ]
  },
  {
   "cell_type": "code",
   "execution_count": 12,
   "metadata": {},
   "outputs": [
    {
     "name": "stdout",
     "output_type": "stream",
     "text": [
      "NON-GOVERNMENT                   32369\n",
      "GOVERNMENT                         858\n",
      "GOVERNMENT PRIMARY                 602\n",
      "OTHERS                             480\n",
      "LOCAL GOVERNMENT                   285\n",
      "AUTONOMOUS                         257\n",
      "Run by Christian Missionaries       50\n",
      "Name: MANAGEMENT_TYPE, dtype: int64\n"
     ]
    }
   ],
   "source": [
    "# educational institutes by management\n",
    "print(df['MANAGEMENT_TYPE'].value_counts())"
   ]
  },
  {
   "cell_type": "code",
   "execution_count": 13,
   "metadata": {},
   "outputs": [
    {
     "name": "stdout",
     "output_type": "stream",
     "text": [
      " RURAL                               26185\n",
      "UPZILA SADAR MUNICIPALITY             2825\n",
      "METROPOLITAN                          1898\n",
      "DISTRICT SADAR MUNICIPALITY           1690\n",
      "UPZILA SADAR BUT NOT MUNICIPALITY     1521\n",
      "OTHER MUNICIPALITY AREA                584\n",
      "CityCorp                               198\n",
      "Name: AREA_STATUS, dtype: int64\n"
     ]
    }
   ],
   "source": [
    "# educational institutes by type of area\n",
    "print(df['AREA_STATUS'].value_counts())"
   ]
  }
 ],
 "metadata": {
  "interpreter": {
   "hash": "4905652b14e4b7eb92899b78ac499a22c488804455b27940a322fd82aaf71031"
  },
  "kernelspec": {
   "display_name": "Python 3.8.5 ('base')",
   "language": "python",
   "name": "python3"
  },
  "language_info": {
   "codemirror_mode": {
    "name": "ipython",
    "version": 3
   },
   "file_extension": ".py",
   "mimetype": "text/x-python",
   "name": "python",
   "nbconvert_exporter": "python",
   "pygments_lexer": "ipython3",
   "version": "3.8.5"
  },
  "orig_nbformat": 4
 },
 "nbformat": 4,
 "nbformat_minor": 2
}
