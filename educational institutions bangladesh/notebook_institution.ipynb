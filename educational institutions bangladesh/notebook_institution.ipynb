{
 "cells": [
  {
   "cell_type": "code",
   "execution_count": 1,
   "metadata": {},
   "outputs": [],
   "source": [
    "import pandas as pd\n",
    "import matplotlib as plt\n",
    "from pprint import pprint"
   ]
  },
  {
   "cell_type": "code",
   "execution_count": 2,
   "metadata": {},
   "outputs": [],
   "source": [
    "df = pd.read_excel('information.xls')"
   ]
  },
  {
   "cell_type": "code",
   "execution_count": 3,
   "metadata": {},
   "outputs": [
    {
     "name": "stdout",
     "output_type": "stream",
     "text": [
      "Index(['INSTITUTE NAME', 'EIIN', 'INSTITUTE_TYPE', 'DIVISION_ID', 'DIVISION',\n",
      "       'DISTRICT_ID', 'DISTRICT', 'THANA_ID', 'THANA', 'UNION_ID',\n",
      "       'UNION_NAME', 'MAUZA_ID', 'MAUZA_NAME', 'AREA_STATUS',\n",
      "       'GEOGRPYCAL_STATUS', 'ADDRESS', 'POST', 'MANAGEMENT_TYPE', 'MOBILE',\n",
      "       'STUDENT_TYPE', 'EDUCATION_LEVEL', 'AFFILIATION', 'MPO_STATUS'],\n",
      "      dtype='object')\n"
     ]
    }
   ],
   "source": [
    "print(df.columns)"
   ]
  },
  {
   "cell_type": "code",
   "execution_count": 11,
   "metadata": {},
   "outputs": [
    {
     "name": "stdout",
     "output_type": "stream",
     "text": [
      "DIVISION    DIVISION_ID\n",
      "DHAKA       30             6072\n",
      "RAJSHAHI    50             5625\n",
      "CHITTAGONG  20             5509\n",
      "RANGPUR     55             5370\n",
      "KHULNA      40             4769\n",
      "BARISAL     10             3256\n",
      "MYMENSINGH  45             2656\n",
      "SYLHET      60             1644\n",
      "dtype: int64\n"
     ]
    }
   ],
   "source": [
    "# educational institutes by division\n",
    "print(df[['DIVISION', 'DIVISION_ID']].value_counts()['DHAKA'])"
   ]
  },
  {
   "cell_type": "code",
   "execution_count": 12,
   "metadata": {},
   "outputs": [
    {
     "name": "stdout",
     "output_type": "stream",
     "text": [
      "School                      19233\n",
      "Madrasha                     9314\n",
      "College                      3190\n",
      "Technical and Vocational     1940\n",
      "School and College           1224\n",
      "Name: INSTITUTE_TYPE, dtype: int64\n"
     ]
    }
   ],
   "source": [
    "# educational institutes by type\n",
    "print(df['INSTITUTE_TYPE'].value_counts())"
   ]
  },
  {
   "cell_type": "code",
   "execution_count": 13,
   "metadata": {},
   "outputs": [
    {
     "name": "stdout",
     "output_type": "stream",
     "text": [
      "NON-GOVERNMENT                   32369\n",
      "GOVERNMENT                         858\n",
      "GOVERNMENT PRIMARY                 602\n",
      "OTHERS                             480\n",
      "LOCAL GOVERNMENT                   285\n",
      "AUTONOMOUS                         257\n",
      "Run by Christian Missionaries       50\n",
      "Name: MANAGEMENT_TYPE, dtype: int64\n"
     ]
    }
   ],
   "source": [
    "# educational institutes by management\n",
    "print(df['MANAGEMENT_TYPE'].value_counts())"
   ]
  },
  {
   "cell_type": "code",
   "execution_count": 14,
   "metadata": {},
   "outputs": [
    {
     "name": "stdout",
     "output_type": "stream",
     "text": [
      " RURAL                               26185\n",
      "UPZILA SADAR MUNICIPALITY             2825\n",
      "METROPOLITAN                          1898\n",
      "DISTRICT SADAR MUNICIPALITY           1690\n",
      "UPZILA SADAR BUT NOT MUNICIPALITY     1521\n",
      "OTHER MUNICIPALITY AREA                584\n",
      "CityCorp                               198\n",
      "Name: AREA_STATUS, dtype: int64\n"
     ]
    }
   ],
   "source": [
    "# educational institutes by type of area\n",
    "print(df['AREA_STATUS'].value_counts())"
   ]
  },
  {
   "cell_type": "markdown",
   "metadata": {},
   "source": [
    "### Preparing data for a Stacked Bar Chart"
   ]
  },
  {
   "cell_type": "code",
   "execution_count": 44,
   "metadata": {},
   "outputs": [],
   "source": [
    "divisions = list(df['DIVISION'].value_counts().index)\n",
    "inst_types = list(df['INSTITUTE_TYPE'].value_counts().index)"
   ]
  },
  {
   "cell_type": "code",
   "execution_count": 58,
   "metadata": {},
   "outputs": [
    {
     "name": "stdout",
     "output_type": "stream",
     "text": [
      "['DHAKA', 'RAJSHAHI', 'CHITTAGONG', 'RANGPUR', 'KHULNA', 'BARISAL', 'MYMENSINGH', 'SYLHET']\n",
      "['School', 'Madrasha', 'College', 'Technical and Vocational', 'School and College']\n"
     ]
    }
   ],
   "source": [
    "print(divisions)\n",
    "print(inst_types)"
   ]
  },
  {
   "cell_type": "code",
   "execution_count": 59,
   "metadata": {},
   "outputs": [],
   "source": [
    "data = []"
   ]
  },
  {
   "cell_type": "code",
   "execution_count": 60,
   "metadata": {},
   "outputs": [
    {
     "name": "stdout",
     "output_type": "stream",
     "text": [
      "[{'division': 'DHAKA', 'School': 3564, 'Madrasha': 1225, 'College': 656, 'Technical and Vocational': 316, 'School and College': 311}, {'division': 'RAJSHAHI', 'School': 2830, 'Madrasha': 1526, 'College': 561, 'Technical and Vocational': 527, 'School and College': 181}, {'division': 'CHITTAGONG', 'School': 3072, 'Madrasha': 1655, 'College': 452, 'Technical and Vocational': 160, 'School and College': 170}, {'division': 'RANGPUR', 'School': 2974, 'Madrasha': 1403, 'College': 434, 'Technical and Vocational': 347, 'School and College': 212}, {'division': 'KHULNA', 'School': 2749, 'Madrasha': 1181, 'College': 457, 'Technical and Vocational': 262, 'School and College': 120}, {'division': 'BARISAL', 'School': 1625, 'Madrasha': 1170, 'College': 258, 'Technical and Vocational': 121, 'School and College': 82}, {'division': 'MYMENSINGH', 'School': 1467, 'Madrasha': 754, 'College': 215, 'Technical and Vocational': 170, 'School and College': 50}, {'division': 'SYLHET', 'School': 952, 'Madrasha': 400, 'College': 157, 'Technical and Vocational': 37, 'School and College': 98}]\n"
     ]
    }
   ],
   "source": [
    "for division in divisions:\n",
    "  dic = {}\n",
    "  dic[\"division\"] = division\n",
    "  for inst_type in inst_types:\n",
    "    dic[inst_type] = len(df[(df['DIVISION'] == division) & (df['INSTITUTE_TYPE'] == inst_type)])\n",
    "  data.append(dic)\n",
    "print(data)"
   ]
  }
 ],
 "metadata": {
  "interpreter": {
   "hash": "4905652b14e4b7eb92899b78ac499a22c488804455b27940a322fd82aaf71031"
  },
  "kernelspec": {
   "display_name": "Python 3.8.5 ('base')",
   "language": "python",
   "name": "python3"
  },
  "language_info": {
   "codemirror_mode": {
    "name": "ipython",
    "version": 3
   },
   "file_extension": ".py",
   "mimetype": "text/x-python",
   "name": "python",
   "nbconvert_exporter": "python",
   "pygments_lexer": "ipython3",
   "version": "3.8.5"
  },
  "orig_nbformat": 4
 },
 "nbformat": 4,
 "nbformat_minor": 2
}
